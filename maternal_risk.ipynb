{
 "cells": [
  {
   "cell_type": "code",
   "execution_count": 4,
   "id": "2c296a8b-ea95-462d-a425-38e99841193b",
   "metadata": {},
   "outputs": [],
   "source": [
    "import pandas as pd\n",
    "import numpy as np\n",
    "import matplotlib.pyplot as plt\n",
    "import seaborn as sns\n",
    "from ds_functions import *"
   ]
  },
  {
   "cell_type": "markdown",
   "id": "90f4d3a0-4af9-4b8f-a748-60544acec3ee",
   "metadata": {},
   "source": [
    "## Data Cleaning"
   ]
  },
  {
   "cell_type": "code",
   "execution_count": 2,
   "id": "cdd6761a-619f-4f9c-92fd-bfb2caf16765",
   "metadata": {},
   "outputs": [],
   "source": [
    "maternal_risk = pd.read_csv('maternal_risk.csv')"
   ]
  },
  {
   "cell_type": "markdown",
   "id": "ed22804c-4c39-4060-bf4c-047de43510b3",
   "metadata": {},
   "source": [
    "### Preview Dataset"
   ]
  },
  {
   "cell_type": "code",
   "execution_count": 3,
   "id": "5ae359a7-e6ad-4a20-b868-20c1081d28b4",
   "metadata": {},
   "outputs": [
    {
     "data": {
      "text/html": [
       "<div>\n",
       "<style scoped>\n",
       "    .dataframe tbody tr th:only-of-type {\n",
       "        vertical-align: middle;\n",
       "    }\n",
       "\n",
       "    .dataframe tbody tr th {\n",
       "        vertical-align: top;\n",
       "    }\n",
       "\n",
       "    .dataframe thead th {\n",
       "        text-align: right;\n",
       "    }\n",
       "</style>\n",
       "<table border=\"1\" class=\"dataframe\">\n",
       "  <thead>\n",
       "    <tr style=\"text-align: right;\">\n",
       "      <th></th>\n",
       "      <th>Age</th>\n",
       "      <th>SystolicBP</th>\n",
       "      <th>DiastolicBP</th>\n",
       "      <th>BS</th>\n",
       "      <th>BodyTemp</th>\n",
       "      <th>HeartRate</th>\n",
       "      <th>RiskLevel</th>\n",
       "    </tr>\n",
       "  </thead>\n",
       "  <tbody>\n",
       "    <tr>\n",
       "      <th>0</th>\n",
       "      <td>25</td>\n",
       "      <td>130</td>\n",
       "      <td>80</td>\n",
       "      <td>15.0</td>\n",
       "      <td>98.0</td>\n",
       "      <td>86</td>\n",
       "      <td>high risk</td>\n",
       "    </tr>\n",
       "    <tr>\n",
       "      <th>1</th>\n",
       "      <td>35</td>\n",
       "      <td>140</td>\n",
       "      <td>90</td>\n",
       "      <td>13.0</td>\n",
       "      <td>98.0</td>\n",
       "      <td>70</td>\n",
       "      <td>high risk</td>\n",
       "    </tr>\n",
       "    <tr>\n",
       "      <th>2</th>\n",
       "      <td>29</td>\n",
       "      <td>90</td>\n",
       "      <td>70</td>\n",
       "      <td>8.0</td>\n",
       "      <td>100.0</td>\n",
       "      <td>80</td>\n",
       "      <td>high risk</td>\n",
       "    </tr>\n",
       "    <tr>\n",
       "      <th>3</th>\n",
       "      <td>30</td>\n",
       "      <td>140</td>\n",
       "      <td>85</td>\n",
       "      <td>7.0</td>\n",
       "      <td>98.0</td>\n",
       "      <td>70</td>\n",
       "      <td>high risk</td>\n",
       "    </tr>\n",
       "    <tr>\n",
       "      <th>4</th>\n",
       "      <td>35</td>\n",
       "      <td>120</td>\n",
       "      <td>60</td>\n",
       "      <td>6.1</td>\n",
       "      <td>98.0</td>\n",
       "      <td>76</td>\n",
       "      <td>low risk</td>\n",
       "    </tr>\n",
       "  </tbody>\n",
       "</table>\n",
       "</div>"
      ],
      "text/plain": [
       "   Age  SystolicBP  DiastolicBP    BS  BodyTemp  HeartRate  RiskLevel\n",
       "0   25         130           80  15.0      98.0         86  high risk\n",
       "1   35         140           90  13.0      98.0         70  high risk\n",
       "2   29          90           70   8.0     100.0         80  high risk\n",
       "3   30         140           85   7.0      98.0         70  high risk\n",
       "4   35         120           60   6.1      98.0         76   low risk"
      ]
     },
     "execution_count": 3,
     "metadata": {},
     "output_type": "execute_result"
    }
   ],
   "source": [
    "maternal_risk.head()"
   ]
  },
  {
   "cell_type": "code",
   "execution_count": 5,
   "id": "22f7262c-f419-4dd2-9c5b-63eae6e7feef",
   "metadata": {},
   "outputs": [
    {
     "name": "stdout",
     "output_type": "stream",
     "text": [
      "<class 'pandas.core.frame.DataFrame'>\n",
      "RangeIndex: 1014 entries, 0 to 1013\n",
      "Data columns (total 7 columns):\n",
      " #   Column       Non-Null Count  Dtype  \n",
      "---  ------       --------------  -----  \n",
      " 0   Age          1014 non-null   int64  \n",
      " 1   SystolicBP   1014 non-null   int64  \n",
      " 2   DiastolicBP  1014 non-null   int64  \n",
      " 3   BS           1014 non-null   float64\n",
      " 4   BodyTemp     1014 non-null   float64\n",
      " 5   HeartRate    1014 non-null   int64  \n",
      " 6   RiskLevel    1014 non-null   object \n",
      "dtypes: float64(2), int64(4), object(1)\n",
      "memory usage: 55.6+ KB\n",
      "None\n",
      "Age            0\n",
      "SystolicBP     0\n",
      "DiastolicBP    0\n",
      "BS             0\n",
      "BodyTemp       0\n",
      "HeartRate      0\n",
      "RiskLevel      0\n",
      "dtype: int64\n"
     ]
    }
   ],
   "source": [
    "# Data type and missing data check to identify data cleaning\n",
    "missing_data_check(maternal_risk)"
   ]
  },
  {
   "cell_type": "markdown",
   "id": "026bccdc-5bc5-4c87-9b68-8d66a03d381f",
   "metadata": {
    "tags": []
   },
   "source": [
    "### Renaming columns\n",
    "To match naming conventions and convenience "
   ]
  },
  {
   "cell_type": "code",
   "execution_count": 33,
   "id": "ed810997-e8ff-4535-b18c-90387d9d7312",
   "metadata": {},
   "outputs": [
    {
     "name": "stdout",
     "output_type": "stream",
     "text": [
      "Index(['age', 'systolic_bp', 'diastolic_bp', 'blood_sugar', 'body_temp',\n",
      "       'heart_rate', 'risk_level'],\n",
      "      dtype='object')\n"
     ]
    }
   ],
   "source": [
    "#Dict for renaming columns to pass into .rename\n",
    "mapped_columns = {'Age':'age', 'SystolicBP': 'systolic_bp', 'DiastolicBP': 'diastolic_bp', 'BS': 'blood_sugar', 'HeartRate': 'heart_rate', 'RiskLevel': 'risk_level', 'BodyTemp': 'body_temp'}\n",
    "maternal_risk.rename(columns=mapped_columns, inplace=True)\n",
    "print(maternal_risk.columns)"
   ]
  },
  {
   "cell_type": "markdown",
   "id": "f6905616-ef7e-4e39-84f1-17d0cd05d73d",
   "metadata": {
    "tags": []
   },
   "source": [
    "### Columns for EDA (Metadata)"
   ]
  },
  {
   "cell_type": "markdown",
   "id": "e23d9efa-d52d-4ecf-9a5c-004fd208397f",
   "metadata": {},
   "source": [
    "--- Metadata on columns for maternal risk in Bangladesh (All patients are women) ---<br>\n",
    "age = Age of patient in years during pregnancy<br>\n",
    "systolic_bp = Systolic blood pressure of patient in mmHg (pressure in your arteries when the heart beats)<br>\n",
    "diastolic_bp = Diastolic blood pressure of patient in mmHg (pressure in your arteries when the heart relaxes)<br>\n",
    "blood_sugar = Blood glucose levels is in terms of a molar concentration, mmol/L<br>\n",
    "body_temp = Body temperature in F<br>\n",
    "heart_rate = A normal resting heart rate in beats per minute<br>\n",
    "risk level = Predicted Risk Intensity Level during pregnancy considering the previous attributes"
   ]
  },
  {
   "cell_type": "code",
   "execution_count": 32,
   "id": "3b463b62-2f3d-4f47-a40b-37aee3722d90",
   "metadata": {},
   "outputs": [],
   "source": [
    "# Variables to hold column names for future lookups in the dataset\n",
    "age = 'age'\n",
    "systolic_bp = 'systolic_bp'\n",
    "diastolic_bp = 'diastolic_bp'\n",
    "blood_sugar = 'blood_sugar'\n",
    "heart_rate = 'heart_rate'\n",
    "body_temp = 'body_temp'\n",
    "risk_level = 'risk_level'"
   ]
  },
  {
   "cell_type": "code",
   "execution_count": 26,
   "id": "ea16875e-b9a6-482e-949b-36220abd62e1",
   "metadata": {},
   "outputs": [
    {
     "name": "stdout",
     "output_type": "stream",
     "text": [
      "age: [25 35 29 30 23 32 42 19 20 48 15 50 10 40 21 18 16 22 49 28 12 60 55 45\n",
      " 31 17 26 54 44 33 13 34 38 39 63 14 37 51 62 43 65 66 56 70 27 36 59 24\n",
      " 41 46]\n",
      "\n",
      "systolic_bp: [130 140  90 120  85 110  70 100  75  95  76  80 115 135 160 129  83  99\n",
      "  78]\n",
      "\n",
      "diastolic_bp: [ 80  90  70  85  60  89  75 100  50  65  95  49  63  69  76  68]\n",
      "\n",
      "blood_sugar: [15.   13.    8.    7.    6.1   7.01 11.    6.9  18.    6.7   7.5   7.2\n",
      "  7.1   6.4   9.    6.    7.7  12.   16.    7.8   6.8   7.9  17.   19.\n",
      " 10.    6.3   6.6   6.5   7.6 ]\n",
      "\n",
      "BodyTemp: [ 98.  100.  102.  101.  103.   98.4  99.   98.6]\n",
      "\n",
      "heart_rate: [86 70 80 76 78 77 88 90 66 82 60 75 67 65 68  7]\n",
      "\n",
      "risk_level: ['high risk' 'low risk' 'mid risk']\n",
      "\n"
     ]
    }
   ],
   "source": [
    "#Examine unique values for each column to complete data cleaning\n",
    "columns = maternal_risk.columns\n",
    "\n",
    "for column in columns:\n",
    "    print(f\"{column}: {maternal_risk[column].unique()}\\n\")"
   ]
  },
  {
   "cell_type": "markdown",
   "id": "5f615632-a953-4ba3-baf8-5cedca09092d",
   "metadata": {},
   "source": [
    "## Univariate Data Profiling\n",
    "\n",
    "Initial summary statistics to get a general picture of the data. <br>\n",
    "Also to generate questions to answer using the data and for potential model building"
   ]
  },
  {
   "cell_type": "code",
   "execution_count": null,
   "id": "d75220eb-2e1a-4290-aed6-334b76d6539c",
   "metadata": {},
   "outputs": [],
   "source": []
  },
  {
   "cell_type": "code",
   "execution_count": 27,
   "id": "3c9191a7-af6c-4f46-a405-1a4b20a62f4d",
   "metadata": {},
   "outputs": [
    {
     "data": {
      "text/html": [
       "<div>\n",
       "<style scoped>\n",
       "    .dataframe tbody tr th:only-of-type {\n",
       "        vertical-align: middle;\n",
       "    }\n",
       "\n",
       "    .dataframe tbody tr th {\n",
       "        vertical-align: top;\n",
       "    }\n",
       "\n",
       "    .dataframe thead th {\n",
       "        text-align: right;\n",
       "    }\n",
       "</style>\n",
       "<table border=\"1\" class=\"dataframe\">\n",
       "  <thead>\n",
       "    <tr style=\"text-align: right;\">\n",
       "      <th></th>\n",
       "      <th>age</th>\n",
       "      <th>systolic_bp</th>\n",
       "      <th>diastolic_bp</th>\n",
       "      <th>blood_sugar</th>\n",
       "      <th>BodyTemp</th>\n",
       "      <th>heart_rate</th>\n",
       "      <th>risk_level</th>\n",
       "    </tr>\n",
       "  </thead>\n",
       "  <tbody>\n",
       "    <tr>\n",
       "      <th>count</th>\n",
       "      <td>1014.000000</td>\n",
       "      <td>1014.000000</td>\n",
       "      <td>1014.000000</td>\n",
       "      <td>1014.000000</td>\n",
       "      <td>1014.000000</td>\n",
       "      <td>1014.000000</td>\n",
       "      <td>1014</td>\n",
       "    </tr>\n",
       "    <tr>\n",
       "      <th>unique</th>\n",
       "      <td>NaN</td>\n",
       "      <td>NaN</td>\n",
       "      <td>NaN</td>\n",
       "      <td>NaN</td>\n",
       "      <td>NaN</td>\n",
       "      <td>NaN</td>\n",
       "      <td>3</td>\n",
       "    </tr>\n",
       "    <tr>\n",
       "      <th>top</th>\n",
       "      <td>NaN</td>\n",
       "      <td>NaN</td>\n",
       "      <td>NaN</td>\n",
       "      <td>NaN</td>\n",
       "      <td>NaN</td>\n",
       "      <td>NaN</td>\n",
       "      <td>low risk</td>\n",
       "    </tr>\n",
       "    <tr>\n",
       "      <th>freq</th>\n",
       "      <td>NaN</td>\n",
       "      <td>NaN</td>\n",
       "      <td>NaN</td>\n",
       "      <td>NaN</td>\n",
       "      <td>NaN</td>\n",
       "      <td>NaN</td>\n",
       "      <td>406</td>\n",
       "    </tr>\n",
       "    <tr>\n",
       "      <th>mean</th>\n",
       "      <td>29.871795</td>\n",
       "      <td>113.198225</td>\n",
       "      <td>76.460552</td>\n",
       "      <td>8.725986</td>\n",
       "      <td>98.665089</td>\n",
       "      <td>74.301775</td>\n",
       "      <td>NaN</td>\n",
       "    </tr>\n",
       "    <tr>\n",
       "      <th>std</th>\n",
       "      <td>13.474386</td>\n",
       "      <td>18.403913</td>\n",
       "      <td>13.885796</td>\n",
       "      <td>3.293532</td>\n",
       "      <td>1.371384</td>\n",
       "      <td>8.088702</td>\n",
       "      <td>NaN</td>\n",
       "    </tr>\n",
       "    <tr>\n",
       "      <th>min</th>\n",
       "      <td>10.000000</td>\n",
       "      <td>70.000000</td>\n",
       "      <td>49.000000</td>\n",
       "      <td>6.000000</td>\n",
       "      <td>98.000000</td>\n",
       "      <td>7.000000</td>\n",
       "      <td>NaN</td>\n",
       "    </tr>\n",
       "    <tr>\n",
       "      <th>25%</th>\n",
       "      <td>19.000000</td>\n",
       "      <td>100.000000</td>\n",
       "      <td>65.000000</td>\n",
       "      <td>6.900000</td>\n",
       "      <td>98.000000</td>\n",
       "      <td>70.000000</td>\n",
       "      <td>NaN</td>\n",
       "    </tr>\n",
       "    <tr>\n",
       "      <th>50%</th>\n",
       "      <td>26.000000</td>\n",
       "      <td>120.000000</td>\n",
       "      <td>80.000000</td>\n",
       "      <td>7.500000</td>\n",
       "      <td>98.000000</td>\n",
       "      <td>76.000000</td>\n",
       "      <td>NaN</td>\n",
       "    </tr>\n",
       "    <tr>\n",
       "      <th>75%</th>\n",
       "      <td>39.000000</td>\n",
       "      <td>120.000000</td>\n",
       "      <td>90.000000</td>\n",
       "      <td>8.000000</td>\n",
       "      <td>98.000000</td>\n",
       "      <td>80.000000</td>\n",
       "      <td>NaN</td>\n",
       "    </tr>\n",
       "    <tr>\n",
       "      <th>max</th>\n",
       "      <td>70.000000</td>\n",
       "      <td>160.000000</td>\n",
       "      <td>100.000000</td>\n",
       "      <td>19.000000</td>\n",
       "      <td>103.000000</td>\n",
       "      <td>90.000000</td>\n",
       "      <td>NaN</td>\n",
       "    </tr>\n",
       "  </tbody>\n",
       "</table>\n",
       "</div>"
      ],
      "text/plain": [
       "                age  systolic_bp  diastolic_bp  blood_sugar     BodyTemp  \\\n",
       "count   1014.000000  1014.000000   1014.000000  1014.000000  1014.000000   \n",
       "unique          NaN          NaN           NaN          NaN          NaN   \n",
       "top             NaN          NaN           NaN          NaN          NaN   \n",
       "freq            NaN          NaN           NaN          NaN          NaN   \n",
       "mean      29.871795   113.198225     76.460552     8.725986    98.665089   \n",
       "std       13.474386    18.403913     13.885796     3.293532     1.371384   \n",
       "min       10.000000    70.000000     49.000000     6.000000    98.000000   \n",
       "25%       19.000000   100.000000     65.000000     6.900000    98.000000   \n",
       "50%       26.000000   120.000000     80.000000     7.500000    98.000000   \n",
       "75%       39.000000   120.000000     90.000000     8.000000    98.000000   \n",
       "max       70.000000   160.000000    100.000000    19.000000   103.000000   \n",
       "\n",
       "         heart_rate risk_level  \n",
       "count   1014.000000       1014  \n",
       "unique          NaN          3  \n",
       "top             NaN   low risk  \n",
       "freq            NaN        406  \n",
       "mean      74.301775        NaN  \n",
       "std        8.088702        NaN  \n",
       "min        7.000000        NaN  \n",
       "25%       70.000000        NaN  \n",
       "50%       76.000000        NaN  \n",
       "75%       80.000000        NaN  \n",
       "max       90.000000        NaN  "
      ]
     },
     "execution_count": 27,
     "metadata": {},
     "output_type": "execute_result"
    }
   ],
   "source": [
    "# Overall picture of the data\n",
    "maternal_risk.describe(include='all')"
   ]
  },
  {
   "cell_type": "markdown",
   "id": "1f5e91aa-6330-4299-bf2b-44a8e1fc39f5",
   "metadata": {
    "tags": []
   },
   "source": [
    "#### Mean age by risk level\n",
    "Black dashed line is the total age mean"
   ]
  },
  {
   "cell_type": "code",
   "execution_count": 28,
   "id": "66668beb-6c54-4228-9b93-99a750f9e5fc",
   "metadata": {},
   "outputs": [
    {
     "data": {
      "image/png": "[encoded data removed]",
      "text/plain": [
       "<Figure size 432x288 with 1 Axes>"
      ]
     },
     "metadata": {
      "needs_background": "light"
     },
     "output_type": "display_data"
    }
   ],
   "source": [
    "summary_stats_barplot(maternal_risk, np.mean, category=risk_level, value=age)"
   ]
  },
  {
   "cell_type": "markdown",
   "id": "7fce58ed-2ca7-47aa-873a-91ef1c52cd74",
   "metadata": {},
   "source": [
    "High risk patients appear to have a higher average age than mid and low risk<br>"
   ]
  },
  {
   "cell_type": "markdown",
   "id": "431bd6fa-27ab-4da8-af71-7f28c81bbdac",
   "metadata": {
    "tags": []
   },
   "source": [
    "#### Mean systolic bp by risk level"
   ]
  },
  {
   "cell_type": "code",
   "execution_count": 29,
   "id": "0a67e3fc-f2d6-4a75-9f9d-57d8c757c247",
   "metadata": {},
   "outputs": [
    {
     "data": {
      "image/png": "[encoded data removed]",
      "text/plain": [
       "<Figure size 432x288 with 1 Axes>"
      ]
     },
     "metadata": {
      "needs_background": "light"
     },
     "output_type": "display_data"
    }
   ],
   "source": [
    "summary_stats_barplot(maternal_risk, np.mean, category=risk_level, value=systolic_bp)"
   ]
  },
  {
   "cell_type": "markdown",
   "id": "1e770933-fb6f-4924-9961-6442aaf2b693",
   "metadata": {},
   "source": [
    "The trend continues where high risk patients have an overall higher mean for each quantitative value examined<br>"
   ]
  },
  {
   "cell_type": "markdown",
   "id": "5bbb712b-6c72-4495-9f65-89e8f560cfb8",
   "metadata": {
    "tags": []
   },
   "source": [
    "#### Mean diastolic bp by risk level"
   ]
  },
  {
   "cell_type": "code",
   "execution_count": 30,
   "id": "c70483a5-e4a5-42b4-8764-08a6a886b609",
   "metadata": {},
   "outputs": [
    {
     "data": {
      "image/png": "[encoded data removed]",
      "text/plain": [
       "<Figure size 432x288 with 1 Axes>"
      ]
     },
     "metadata": {
      "needs_background": "light"
     },
     "output_type": "display_data"
    }
   ],
   "source": [
    "summary_stats_barplot(maternal_risk, np.mean, category=risk_level, value=diastolic_bp)"
   ]
  },
  {
   "cell_type": "markdown",
   "id": "ad2add55-54c4-4e1f-81f0-3b96b305449d",
   "metadata": {},
   "source": [
    "The trend based on risk level continues for diastolic bp"
   ]
  },
  {
   "cell_type": "markdown",
   "id": "5309daec-cc21-4b29-a684-0bca3d954030",
   "metadata": {
    "tags": []
   },
   "source": [
    "#### Mean blood sugar by risk level"
   ]
  },
  {
   "cell_type": "code",
   "execution_count": 31,
   "id": "5ae9a70a-7261-4a41-a911-ca8dd12e9bcd",
   "metadata": {},
   "outputs": [
    {
     "data": {
      "image/png": "[encoded data removed]",
      "text/plain": [
       "<Figure size 432x288 with 1 Axes>"
      ]
     },
     "metadata": {
      "needs_background": "light"
     },
     "output_type": "display_data"
    }
   ],
   "source": [
    "summary_stats_barplot(maternal_risk, np.mean, category=risk_level, value=blood_sugar)"
   ]
  },
  {
   "cell_type": "markdown",
   "id": "a155a6d8-2bc4-42e8-9b29-ed43cf9ca0e3",
   "metadata": {},
   "source": [
    "Blood sugar levels are much larger in high risk groups than mid or low<br>\n",
    "Comparatively high risk blood sugar levels are almost twice as high as low risk groups<br>\n",
    "Further analysis of blood_sugar should be conducted"
   ]
  },
  {
   "cell_type": "markdown",
   "id": "45f7d5fa-a4e4-4b98-bbdc-051e89bdd80d",
   "metadata": {
    "tags": []
   },
   "source": [
    "#### Mean body temp by risk level"
   ]
  },
  {
   "cell_type": "code",
   "execution_count": 34,
   "id": "28cbda50-9896-4ca8-bbd4-95ea9837ca2b",
   "metadata": {},
   "outputs": [
    {
     "data": {
      "image/png": "[encoded data removed]",
      "text/plain": [
       "<Figure size 432x288 with 1 Axes>"
      ]
     },
     "metadata": {
      "needs_background": "light"
     },
     "output_type": "display_data"
    }
   ],
   "source": [
    "summary_stats_barplot(maternal_risk, np.mean, category=risk_level, value=body_temp)"
   ]
  },
  {
   "cell_type": "markdown",
   "id": "b6f2499f-28fe-4978-8dda-e6d889abbb8c",
   "metadata": {},
   "source": [
    "Body temperature appears to be the healthy human average (98.6 degrees F)<br>\n",
    "It is likely that patients tested did not have an illness which raised their body temp temperature at the time of recording"
   ]
  },
  {
   "cell_type": "markdown",
   "id": "307639a9-7698-43ed-8e10-890e57f46e53",
   "metadata": {
    "tags": []
   },
   "source": [
    "#### Mean heart rate by risk level"
   ]
  },
  {
   "cell_type": "code",
   "execution_count": 35,
   "id": "3f25cf70-96b4-4847-bdec-342cbb44ffec",
   "metadata": {},
   "outputs": [
    {
     "data": {
      "image/png": "[encoded data removed]",
      "text/plain": [
       "<Figure size 432x288 with 1 Axes>"
      ]
     },
     "metadata": {
      "needs_background": "light"
     },
     "output_type": "display_data"
    }
   ],
   "source": [
    "summary_stats_barplot(maternal_risk, np.mean, category=risk_level, value=heart_rate)"
   ]
  },
  {
   "cell_type": "markdown",
   "id": "ccbe1480-9090-48b7-b8d6-e828494fa137",
   "metadata": {},
   "source": [
    "Slight elevation of heart rate in high risk patients"
   ]
  },
  {
   "cell_type": "markdown",
   "id": "9529fadd-108a-4734-bcf4-a4a460e6a806",
   "metadata": {
    "tags": []
   },
   "source": [
    "### Distributions by risk level"
   ]
  },
  {
   "cell_type": "markdown",
   "id": "00d82874-f200-4f55-9481-aafb2409ed27",
   "metadata": {},
   "source": [
    "#### Distribution of age"
   ]
  },
  {
   "cell_type": "code",
   "execution_count": 36,
   "id": "f811282b-83d1-4d66-b4ba-024b54ecba97",
   "metadata": {},
   "outputs": [
    {
     "data": {
      "image/png": "[encoded data removed]",
      "text/plain": [
       "<Figure size 432x288 with 1 Axes>"
      ]
     },
     "metadata": {
      "needs_background": "light"
     },
     "output_type": "display_data"
    }
   ],
   "source": [
    "sorted_boxplot(maternal_risk, risk_level, age)"
   ]
  },
  {
   "cell_type": "markdown",
   "id": "65cef493-d32a-4572-bf95-0d93088695cf",
   "metadata": {},
   "source": [
    "High risk IQR, median and range is much larger than mid and low risk<br>\n",
    "Age ranges recorded appear to be past normal menopause age. Average menopause age is between 45 and 55 (nia.nih.gov)<br> \n",
    "Geriatric pregnacy is considered pregnancy at 35 years of age or older<br>\n",
    "No clarification on how the age was recorded from the data source (UCI Machine Learning Repository)"
   ]
  },
  {
   "cell_type": "markdown",
   "id": "d9b9dfa6-c31c-4da3-a942-3a2d4b707d7d",
   "metadata": {},
   "source": [
    "#### Distribution of systolic and diastolic bp"
   ]
  },
  {
   "cell_type": "code",
   "execution_count": 40,
   "id": "42f1813d-d531-4951-9f09-3eb09b184a5d",
   "metadata": {},
   "outputs": [
    {
     "data": {
      "image/png": "[encoded data removed]",
      "text/plain": [
       "<Figure size 432x288 with 1 Axes>"
      ]
     },
     "metadata": {
      "needs_background": "light"
     },
     "output_type": "display_data"
    },
    {
     "data": {
      "image/png": "[encoded data removed]",
      "text/plain": [
       "<Figure size 432x288 with 1 Axes>"
      ]
     },
     "metadata": {
      "needs_background": "light"
     },
     "output_type": "display_data"
    }
   ],
   "source": [
    "sorted_boxplot(maternal_risk, risk_level, systolic_bp)\n",
    "sorted_boxplot(maternal_risk, risk_level, diastolic_bp)"
   ]
  },
  {
   "cell_type": "markdown",
   "id": "5739466d-90b3-4870-86a8-72bb73022faf",
   "metadata": {},
   "source": [
    "Elevated systolic and diastolic bp is also an indicator of heart illness<br>\n",
    "The median systolic blood pressure for high risk patients is ~130 which is hypertension stage 1<br>\n",
    "The median diastolic blood pressure for high risk patients is ~90 which is hypertension stage 1<br>\n",
    "Systolic/Diastolic blood pressure ranges in mmHg: (cdc.gov)<br>\n",
    "Normal <= 120/80<br>\n",
    "Elevated 120-129/80 or less<br>\n",
    "Hypertension (Stage 1) 130-139/80-89<br>\n",
    "Hypertension (Stage 2) >= 140/90<br>\n",
    "Hypertension (Stage 3) > 180/120"
   ]
  },
  {
   "cell_type": "markdown",
   "id": "2986bd43-35c8-4c7d-97af-0d7ff642c3c0",
   "metadata": {},
   "source": [
    "#### Distribution of blood_sugar"
   ]
  },
  {
   "cell_type": "code",
   "execution_count": 41,
   "id": "814953d7-d532-48e1-8dae-235c26d879e8",
   "metadata": {},
   "outputs": [
    {
     "data": {
      "image/png": "[encoded data removed]",
      "text/plain": [
       "<Figure size 432x288 with 1 Axes>"
      ]
     },
     "metadata": {
      "needs_background": "light"
     },
     "output_type": "display_data"
    }
   ],
   "source": [
    "sorted_boxplot(maternal_risk, risk_level, blood_sugar)"
   ]
  },
  {
   "cell_type": "markdown",
   "id": "0ec39ab6-ba4f-43e0-925a-cb3697d393dc",
   "metadata": {},
   "source": [
    "Data source doesn't clarify if the blood sugar level was taken while fasting. We'll assume it wasn't since the the ranges of low risk blood sugar levels are between ~7-8 mmol/L which is non fasting.<br>\n",
    "Median blood sugar levels of high risk group is ~11 mmol/L which is prediabetes on the cusp of diabetes<br>\n",
    "Blood sugar levels: (mayoclinic.org)<br>\n",
    "Normal <= 7.8 mmol/L<br>\n",
    "Prediabetes 7.8 - 11.0 mmol/L<br>\n",
    "Diabetes > 11.1 mmol/L 2 hours after eating\n"
   ]
  },
  {
   "cell_type": "code",
   "execution_count": 46,
   "id": "bca320b7-d3e5-4e66-b5bb-3c9d12d06805",
   "metadata": {},
   "outputs": [
    {
     "data": {
      "text/plain": [
       "<seaborn.axisgrid.FacetGrid at 0x1c71aa298b0>"
      ]
     },
     "execution_count": 46,
     "metadata": {},
     "output_type": "execute_result"
    },
    {
     "data": {
      "image/png": "[encoded data removed]",
      "text/plain": [
       "<Figure size 1080x360 with 3 Axes>"
      ]
     },
     "metadata": {
      "needs_background": "light"
     },
     "output_type": "display_data"
    }
   ],
   "source": [
    "sns.displot(data=maternal_risk, x=blood_sugar, col=risk_level, col_wrap=3)"
   ]
  },
  {
   "cell_type": "markdown",
   "id": "fabad4b1-a374-485b-9019-0748a57c3912",
   "metadata": {},
   "source": [
    "Skewed right distributions would need to be transformed for statistical analysis"
   ]
  },
  {
   "cell_type": "markdown",
   "id": "9f11f74e-06e2-4cae-9f57-bcaba6d269a8",
   "metadata": {},
   "source": [
    "#### Distribution of body temp"
   ]
  },
  {
   "cell_type": "code",
   "execution_count": 43,
   "id": "fd791331-ced1-41a8-80a5-c0757cccf16b",
   "metadata": {},
   "outputs": [
    {
     "data": {
      "image/png": "[encoded data removed]",
      "text/plain": [
       "<Figure size 432x288 with 1 Axes>"
      ]
     },
     "metadata": {
      "needs_background": "light"
     },
     "output_type": "display_data"
    }
   ],
   "source": [
    "sorted_boxplot(maternal_risk, risk_level, body_temp)"
   ]
  },
  {
   "cell_type": "markdown",
   "id": "39ce7237-adde-460c-8afa-97d3622cc3b4",
   "metadata": {},
   "source": [
    "Temperature indicative of a fever is 100.4 F or greater<br>\n",
    "A majority of temperatures for each risk level is below the fever threshold. It is unlikely patients vitals were taken while sick"
   ]
  },
  {
   "cell_type": "markdown",
   "id": "8218bf9f-a60d-4fec-807b-d785d9f54350",
   "metadata": {},
   "source": [
    "#### Distribution of heart rate"
   ]
  },
  {
   "cell_type": "code",
   "execution_count": 44,
   "id": "1822dde1-a585-4099-bfa3-12fc2367c337",
   "metadata": {},
   "outputs": [
    {
     "data": {
      "image/png": "[encoded data removed]",
      "text/plain": [
       "<Figure size 432x288 with 1 Axes>"
      ]
     },
     "metadata": {
      "needs_background": "light"
     },
     "output_type": "display_data"
    }
   ],
   "source": [
    "sorted_boxplot(maternal_risk, risk_level, heart_rate)"
   ]
  },
  {
   "cell_type": "markdown",
   "id": "9a6414f0-1421-4933-81e3-d4a89ff1777a",
   "metadata": {},
   "source": [
    "Outlier of 7 beats per minute is an incorrect measurement due to human error<br>\n",
    "Elevated heart rates are assoicated with elevated blood pressure (Reule, S., & Drawz, P. E. (2012). Heart rate and blood pressure: any possible implications for management of hypertension?. Current hypertension reports, 14(6), 478–484. https://doi.org/10.1007/s11906-012-0306-3)<br>\n",
    "There appears to be a trend of higher heart rates and higher blood pressure readings in high risk patients"
   ]
  },
  {
   "cell_type": "markdown",
   "id": "9dcee89e-9276-40e0-ab50-427b3df4409c",
   "metadata": {},
   "source": [
    "## Bivariate Data Profiling\n",
    "Identify trends/relationships between key variables<br>\n",
    "Blood sugar vs bp, age, heart rate<br>\n",
    "Heart rate vs bp"
   ]
  },
  {
   "cell_type": "code",
   "execution_count": null,
   "id": "b226fc92-3226-499e-b0b3-612bf99c3e87",
   "metadata": {},
   "outputs": [],
   "source": []
  }
 ],
 "metadata": {
  "kernelspec": {
   "display_name": "Python 3 (ipykernel)",
   "language": "python",
   "name": "python3"
  },
  "language_info": {
   "codemirror_mode": {
    "name": "ipython",
    "version": 3
   },
   "file_extension": ".py",
   "mimetype": "text/x-python",
   "name": "python",
   "nbconvert_exporter": "python",
   "pygments_lexer": "ipython3",
   "version": "3.9.12"
  }
 },
 "nbformat": 4,
 "nbformat_minor": 5
}
