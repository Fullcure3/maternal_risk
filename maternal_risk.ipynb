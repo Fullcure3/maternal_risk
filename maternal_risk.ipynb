{
 "cells": [
  {
   "cell_type": "code",
   "execution_count": 4,
   "id": "2c296a8b-ea95-462d-a425-38e99841193b",
   "metadata": {},
   "outputs": [],
   "source": [
    "import pandas as pd\n",
    "import numpy as np\n",
    "import matplotlib.pyplot as plt\n",
    "import seaborn as sns\n",
    "from ds_functions import *"
   ]
  },
  {
   "cell_type": "markdown",
   "id": "90f4d3a0-4af9-4b8f-a748-60544acec3ee",
   "metadata": {},
   "source": [
    "## Data Cleaning"
   ]
  },
  {
   "cell_type": "code",
   "execution_count": 2,
   "id": "cdd6761a-619f-4f9c-92fd-bfb2caf16765",
   "metadata": {},
   "outputs": [],
   "source": [
    "maternal_risk = pd.read_csv('maternal_risk.csv')"
   ]
  },
  {
   "cell_type": "markdown",
   "id": "ed22804c-4c39-4060-bf4c-047de43510b3",
   "metadata": {},
   "source": [
    "### Preview Dataset"
   ]
  },
  {
   "cell_type": "code",
   "execution_count": 3,
   "id": "5ae359a7-e6ad-4a20-b868-20c1081d28b4",
   "metadata": {},
   "outputs": [
    {
     "data": {
      "text/html": [
       "<div>\n",
       "<style scoped>\n",
       "    .dataframe tbody tr th:only-of-type {\n",
       "        vertical-align: middle;\n",
       "    }\n",
       "\n",
       "    .dataframe tbody tr th {\n",
       "        vertical-align: top;\n",
       "    }\n",
       "\n",
       "    .dataframe thead th {\n",
       "        text-align: right;\n",
       "    }\n",
       "</style>\n",
       "<table border=\"1\" class=\"dataframe\">\n",
       "  <thead>\n",
       "    <tr style=\"text-align: right;\">\n",
       "      <th></th>\n",
       "      <th>Age</th>\n",
       "      <th>SystolicBP</th>\n",
       "      <th>DiastolicBP</th>\n",
       "      <th>BS</th>\n",
       "      <th>BodyTemp</th>\n",
       "      <th>HeartRate</th>\n",
       "      <th>RiskLevel</th>\n",
       "    </tr>\n",
       "  </thead>\n",
       "  <tbody>\n",
       "    <tr>\n",
       "      <th>0</th>\n",
       "      <td>25</td>\n",
       "      <td>130</td>\n",
       "      <td>80</td>\n",
       "      <td>15.0</td>\n",
       "      <td>98.0</td>\n",
       "      <td>86</td>\n",
       "      <td>high risk</td>\n",
       "    </tr>\n",
       "    <tr>\n",
       "      <th>1</th>\n",
       "      <td>35</td>\n",
       "      <td>140</td>\n",
       "      <td>90</td>\n",
       "      <td>13.0</td>\n",
       "      <td>98.0</td>\n",
       "      <td>70</td>\n",
       "      <td>high risk</td>\n",
       "    </tr>\n",
       "    <tr>\n",
       "      <th>2</th>\n",
       "      <td>29</td>\n",
       "      <td>90</td>\n",
       "      <td>70</td>\n",
       "      <td>8.0</td>\n",
       "      <td>100.0</td>\n",
       "      <td>80</td>\n",
       "      <td>high risk</td>\n",
       "    </tr>\n",
       "    <tr>\n",
       "      <th>3</th>\n",
       "      <td>30</td>\n",
       "      <td>140</td>\n",
       "      <td>85</td>\n",
       "      <td>7.0</td>\n",
       "      <td>98.0</td>\n",
       "      <td>70</td>\n",
       "      <td>high risk</td>\n",
       "    </tr>\n",
       "    <tr>\n",
       "      <th>4</th>\n",
       "      <td>35</td>\n",
       "      <td>120</td>\n",
       "      <td>60</td>\n",
       "      <td>6.1</td>\n",
       "      <td>98.0</td>\n",
       "      <td>76</td>\n",
       "      <td>low risk</td>\n",
       "    </tr>\n",
       "  </tbody>\n",
       "</table>\n",
       "</div>"
      ],
      "text/plain": [
       "   Age  SystolicBP  DiastolicBP    BS  BodyTemp  HeartRate  RiskLevel\n",
       "0   25         130           80  15.0      98.0         86  high risk\n",
       "1   35         140           90  13.0      98.0         70  high risk\n",
       "2   29          90           70   8.0     100.0         80  high risk\n",
       "3   30         140           85   7.0      98.0         70  high risk\n",
       "4   35         120           60   6.1      98.0         76   low risk"
      ]
     },
     "execution_count": 3,
     "metadata": {},
     "output_type": "execute_result"
    }
   ],
   "source": [
    "maternal_risk.head()"
   ]
  },
  {
   "cell_type": "code",
   "execution_count": 5,
   "id": "22f7262c-f419-4dd2-9c5b-63eae6e7feef",
   "metadata": {},
   "outputs": [
    {
     "name": "stdout",
     "output_type": "stream",
     "text": [
      "<class 'pandas.core.frame.DataFrame'>\n",
      "RangeIndex: 1014 entries, 0 to 1013\n",
      "Data columns (total 7 columns):\n",
      " #   Column       Non-Null Count  Dtype  \n",
      "---  ------       --------------  -----  \n",
      " 0   Age          1014 non-null   int64  \n",
      " 1   SystolicBP   1014 non-null   int64  \n",
      " 2   DiastolicBP  1014 non-null   int64  \n",
      " 3   BS           1014 non-null   float64\n",
      " 4   BodyTemp     1014 non-null   float64\n",
      " 5   HeartRate    1014 non-null   int64  \n",
      " 6   RiskLevel    1014 non-null   object \n",
      "dtypes: float64(2), int64(4), object(1)\n",
      "memory usage: 55.6+ KB\n",
      "None\n",
      "Age            0\n",
      "SystolicBP     0\n",
      "DiastolicBP    0\n",
      "BS             0\n",
      "BodyTemp       0\n",
      "HeartRate      0\n",
      "RiskLevel      0\n",
      "dtype: int64\n"
     ]
    }
   ],
   "source": [
    "# Data type and missing data check to identify data cleaning\n",
    "missing_data_check(maternal_risk)"
   ]
  },
  {
   "cell_type": "markdown",
   "id": "026bccdc-5bc5-4c87-9b68-8d66a03d381f",
   "metadata": {
    "tags": []
   },
   "source": [
    "### Renaming columns\n",
    "To match naming conventions and convenience "
   ]
  },
  {
   "cell_type": "code",
   "execution_count": 9,
   "id": "ed810997-e8ff-4535-b18c-90387d9d7312",
   "metadata": {},
   "outputs": [
    {
     "name": "stdout",
     "output_type": "stream",
     "text": [
      "Index(['age', 'systolic_bp', 'diastolic_bp', 'blood_sugar', 'BodyTemp',\n",
      "       'heart_rate', 'risk_level'],\n",
      "      dtype='object')\n"
     ]
    }
   ],
   "source": [
    "#Dict for renaming columns to pass into .rename\n",
    "mapped_columns = {'Age':'age', 'SystolicBP': 'systolic_bp', 'DiastolicBP': 'diastolic_bp', 'BS': 'blood_sugar', 'HeartRate': 'heart_rate', 'RiskLevel': 'risk_level'}\n",
    "maternal_risk.rename(columns=mapped_columns, inplace=True)\n",
    "print(maternal_risk.columns)"
   ]
  },
  {
   "cell_type": "markdown",
   "id": "f6905616-ef7e-4e39-84f1-17d0cd05d73d",
   "metadata": {
    "tags": []
   },
   "source": [
    "### Columns for EDA (Metadata)"
   ]
  },
  {
   "cell_type": "markdown",
   "id": "e23d9efa-d52d-4ecf-9a5c-004fd208397f",
   "metadata": {},
   "source": [
    "--- Metadata on columns for maternal risk in Bangladesh (All patients are women) ---<br>\n",
    "age = Age of patient in years during pregnancy<br>\n",
    "systolic_bp = Systolic blood pressure of patient in mmHg (pressure in your arteries when the heart beats)<br>\n",
    "diastolic_bp = Diastolic blood pressure of patient in mmHg (pressure in your arteries when the heart relaxes)<br>\n",
    "blood_sugar = Blood glucose levels is in terms of a molar concentration, mmol/L.<br>\n",
    "heart_rate = A normal resting heart rate in beats per minute.<br>\n",
    "risk level = Predicted Risk Intensity Level during pregnancy considering the previous attributes."
   ]
  },
  {
   "cell_type": "code",
   "execution_count": 12,
   "id": "3b463b62-2f3d-4f47-a40b-37aee3722d90",
   "metadata": {},
   "outputs": [],
   "source": [
    "# Variables to hold column names for future lookups in the dataset\n",
    "age = 'age'\n",
    "systolic_bp = 'systolic_bp'\n",
    "diastolic_bp = 'diastolic_bp'\n",
    "blood_sugar = 'blood_sugar'\n",
    "heart_rate = 'heart_rate'\n",
    "risk_level = 'risk_level'"
   ]
  },
  {
   "cell_type": "code",
   "execution_count": 23,
   "id": "ea16875e-b9a6-482e-949b-36220abd62e1",
   "metadata": {},
   "outputs": [
    {
     "name": "stdout",
     "output_type": "stream",
     "text": [
      "age, [25 35 29 30 23 32 42 19 20 48 15 50 10 40 21 18 16 22 49 28 12 60 55 45\n",
      " 31 17 26 54 44 33 13 34 38 39 63 14 37 51 62 43 65 66 56 70 27 36 59 24\n",
      " 41 46], \n",
      "\n",
      "systolic_bp, [130 140  90 120  85 110  70 100  75  95  76  80 115 135 160 129  83  99\n",
      "  78], \n",
      "\n",
      "diastolic_bp, [ 80  90  70  85  60  89  75 100  50  65  95  49  63  69  76  68], \n",
      "\n",
      "blood_sugar, [15.   13.    8.    7.    6.1   7.01 11.    6.9  18.    6.7   7.5   7.2\n",
      "  7.1   6.4   9.    6.    7.7  12.   16.    7.8   6.8   7.9  17.   19.\n",
      " 10.    6.3   6.6   6.5   7.6 ], \n",
      "\n",
      "BodyTemp, [ 98.  100.  102.  101.  103.   98.4  99.   98.6], \n",
      "\n",
      "heart_rate, [86 70 80 76 78 77 88 90 66 82 60 75 67 65 68  7], \n",
      "\n",
      "risk_level, ['high risk' 'low risk' 'mid risk'], \n",
      "\n"
     ]
    }
   ],
   "source": [
    "#Examine unique values for each column to complete data check\n",
    "columns = maternal_risk.columns\n",
    "\n",
    "for column in columns:\n",
    "    print(f\"{column}, {maternal_risk[column].unique()}, \\n\")"
   ]
  },
  {
   "cell_type": "code",
   "execution_count": null,
   "id": "d75220eb-2e1a-4290-aed6-334b76d6539c",
   "metadata": {},
   "outputs": [],
   "source": []
  }
 ],
 "metadata": {
  "kernelspec": {
   "display_name": "Python 3 (ipykernel)",
   "language": "python",
   "name": "python3"
  },
  "language_info": {
   "codemirror_mode": {
    "name": "ipython",
    "version": 3
   },
   "file_extension": ".py",
   "mimetype": "text/x-python",
   "name": "python",
   "nbconvert_exporter": "python",
   "pygments_lexer": "ipython3",
   "version": "3.9.12"
  }
 },
 "nbformat": 4,
 "nbformat_minor": 5
}
